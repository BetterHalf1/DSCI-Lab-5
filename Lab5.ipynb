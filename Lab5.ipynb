{
 "cells": [
  {
   "cell_type": "markdown",
   "metadata": {},
   "source": [
    "#### DS 105/305 Lab 5\n"
   ]
  },
  {
   "cell_type": "markdown",
   "metadata": {},
   "source": [
    "In this lab, you may choose either the ice dataset from Labs 3 and 4, the names dataset from Labs 1 and 2, or some other dataset you find yourself.  Either way, your assignment in this lab is to come up with some useful visualizations of the data, which should be different than the ones we already generated in previous labs.  For example, you might use box or violin plots to show distributions along some dimension, or build interesting histograms, etc.  You might begin by looking at the matplotlib example library after choosing your dataset and reminding yourself what the dataset looks like.  All this will probably be easier to do if you make sure you start with your data in a Pandas dataframe.   \n",
    "\n",
    "You may work in pairs on this lab - please make sure your submission email lists both contributors.\n",
    "\n",
    "Due: by email to kebasye no later than 11:59 PM on Wednesday, March 30th"
   ]
  },
  {
   "cell_type": "markdown",
   "metadata": {},
   "source": [
    "Convert dataset into Pandas Dataframe"
   ]
  },
  {
   "cell_type": "code",
   "execution_count": 10,
   "metadata": {},
   "outputs": [
    {
     "name": "stdout",
     "output_type": "stream",
     "text": [
      "      Aaban  Aabid  Aabriella  Aadam  Aadan  Aadarsh  Aaden  Aadesh  Aadhav  \\\n",
      "1880      0      0          0      0      0        0      0       0       0   \n",
      "1881      0      0          0      0      0        0      0       0       0   \n",
      "1882      0      0          0      0      0        0      0       0       0   \n",
      "1883      0      0          0      0      0        0      0       0       0   \n",
      "1884      0      0          0      0      0        0      0       0       0   \n",
      "...     ...    ...        ...    ...    ...      ...    ...     ...     ...   \n",
      "2006      0      0          0      9      0       14     55       0       5   \n",
      "2007      5      0          0      8      8       13    155       0       0   \n",
      "2008      0      0          5      6     22       13    955       0       0   \n",
      "2009      6      0          0      9     23       16   1270       5       5   \n",
      "2010      9      0          0      7     11        0    448       0      13   \n",
      "\n",
      "      Aadhavan  ...  Zyrus  Zysean  Zyshaun  Zyshawn  Zyshon  Zyshonne  \\\n",
      "1880         0  ...      0       0        0        0       0         0   \n",
      "1881         0  ...      0       0        0        0       0         0   \n",
      "1882         0  ...      0       0        0        0       0         0   \n",
      "1883         0  ...      0       0        0        0       0         0   \n",
      "1884         0  ...      0       0        0        0       0         0   \n",
      "...        ...  ...    ...     ...      ...      ...     ...       ...   \n",
      "2006         0  ...      0       0        5        5       0         0   \n",
      "2007         0  ...      0       0        7       11       0         0   \n",
      "2008         0  ...      9       0        6       14       0         0   \n",
      "2009         0  ...      0       0        0        7       0         0   \n",
      "2010         5  ...      0       0        0        9       0         0   \n",
      "\n",
      "      Zytavious  Zyvion  Zyyanna  Zzyzx  \n",
      "1880          0       0        0      0  \n",
      "1881          0       0        0      0  \n",
      "1882          0       0        0      0  \n",
      "1883          0       0        0      0  \n",
      "1884          0       0        0      0  \n",
      "...         ...     ...      ...    ...  \n",
      "2006          7       0        0      0  \n",
      "2007          6       0        0      0  \n",
      "2008          0       0        0      0  \n",
      "2009          7       5        0      0  \n",
      "2010          6       0        6      5  \n",
      "\n",
      "[131 rows x 88496 columns]\n"
     ]
    }
   ],
   "source": [
    "import numpy as np\n",
    "import pandas as pd\n",
    "import csv\n",
    "\n",
    "# put some code here to do this\n",
    "entire_data = {}\n",
    "year = 1880\n",
    "\n",
    "while year <= 2010:\n",
    "  with open(\"names/yob\" + str(year) + \".txt\", newline='') as f:\n",
    "    year_names = {}\n",
    "    reader = csv.reader(f)\n",
    "    for row in reader:\n",
    "        if row[0] in year_names:\n",
    "            year_names[row[0]] += int(row[2])\n",
    "        else:\n",
    "            year_names[row[0]] = int(row[2])\n",
    "    entire_data[year] = year_names\n",
    "    year = year + 1\n",
    "    \n",
    "# put some code here to do this\n",
    "all_names = list()\n",
    "year = 1880\n",
    "\n",
    "while year <= 2010:\n",
    "  with open(\"names/yob\" + str(year) + \".txt\", newline='') as f:\n",
    "    reader = csv.reader(f)\n",
    "    for row in reader:\n",
    "      all_names.append(row[0])\n",
    "    year = year + 1\n",
    "sorted_all_names = sorted(set(all_names))\n",
    "    \n",
    "# put some code here to do this\n",
    "all_years = list()\n",
    "for year in range(1880, 2011):\n",
    "  all_years.append(year)\n",
    "\n",
    "# put some code here to do this\n",
    "extended_data = {}\n",
    "\n",
    "for year in all_years:\n",
    "    inner = {}\n",
    "    for name in sorted_all_names:\n",
    "        inner[name] = 0\n",
    "    extended_data[year] = inner\n",
    "\n",
    "for year in all_years:\n",
    "    for name in entire_data[year]:\n",
    "        extended_data[year][name] += entire_data[year][name]\n",
    "\n",
    "# put some code here to do this\n",
    "import numpy as np\n",
    "import pandas as pd\n",
    "namelst = list()\n",
    "for names in sorted_all_names:\n",
    "    namelst.append(names)\n",
    "nameArray = np.array(namelst)\n",
    "\n",
    "\n",
    "yearlst = list()\n",
    "for num in all_years:\n",
    "    yearlst.append(num)\n",
    "yearArray = np.array(yearlst)\n",
    "\n",
    "tdlst = list()\n",
    "for year in yearArray:\n",
    "    odlst = list()\n",
    "    for name in nameArray:\n",
    "        odlst.append(extended_data[year][name])\n",
    "    tdlst.append(odlst)\n",
    "tdArray = np.array(tdlst)\n",
    "tdArray\n",
    "\n",
    "\n",
    "df = pd.DataFrame(tdArray, columns = nameArray, index = yearArray)\n",
    "print(df)"
   ]
  },
  {
   "cell_type": "markdown",
   "metadata": {},
   "source": [
    "Q2"
   ]
  },
  {
   "cell_type": "code",
   "execution_count": 5,
   "metadata": {},
   "outputs": [],
   "source": [
    "# Write code to do this here - use more cells if you like"
   ]
  },
  {
   "cell_type": "markdown",
   "metadata": {},
   "source": [
    "Q3"
   ]
  },
  {
   "cell_type": "code",
   "execution_count": 6,
   "metadata": {},
   "outputs": [],
   "source": [
    "# Write code to do this here - use more cells if you like"
   ]
  },
  {
   "cell_type": "markdown",
   "metadata": {},
   "source": [
    "Q4"
   ]
  },
  {
   "cell_type": "code",
   "execution_count": 7,
   "metadata": {},
   "outputs": [],
   "source": [
    "# Write code to do this here - use more cells if you like"
   ]
  },
  {
   "cell_type": "markdown",
   "metadata": {},
   "source": [
    "Q5"
   ]
  },
  {
   "cell_type": "code",
   "execution_count": 8,
   "metadata": {},
   "outputs": [],
   "source": [
    "# Write code to do this here - use more cells if you like"
   ]
  },
  {
   "cell_type": "markdown",
   "metadata": {},
   "source": [
    "#### "
   ]
  }
 ],
 "metadata": {
  "kernelspec": {
   "display_name": "Python 3",
   "language": "python",
   "name": "python3"
  },
  "language_info": {
   "codemirror_mode": {
    "name": "ipython",
    "version": 3
   },
   "file_extension": ".py",
   "mimetype": "text/x-python",
   "name": "python",
   "nbconvert_exporter": "python",
   "pygments_lexer": "ipython3",
   "version": "3.7.4"
  }
 },
 "nbformat": 4,
 "nbformat_minor": 4
}
